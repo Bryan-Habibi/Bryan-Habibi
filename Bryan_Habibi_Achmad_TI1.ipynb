{
  "nbformat": 4,
  "nbformat_minor": 0,
  "metadata": {
    "colab": {
      "provenance": [],
      "include_colab_link": true
    },
    "kernelspec": {
      "name": "python3",
      "display_name": "Python 3"
    },
    "language_info": {
      "name": "python"
    }
  },
  "cells": [
    {
      "cell_type": "markdown",
      "metadata": {
        "id": "view-in-github",
        "colab_type": "text"
      },
      "source": [
        "<a href=\"https://colab.research.google.com/github/Bryan-Habibi/Bryan-Habibi/blob/main/Bryan_Habibi_Achmad_TI1.ipynb\" target=\"_parent\"><img src=\"https://colab.research.google.com/assets/colab-badge.svg\" alt=\"Open In Colab\"/></a>"
      ]
    },
    {
      "cell_type": "markdown",
      "source": [
        "Buatlah class Karyawan yang memiliki atribut id, nama dan departemen dan sebuah fungsi bernama hitung_gaji. Untuk hitung gaji pada class Karyawan tidak berisi perhitungan gaji, namun hanya berisi pass"
      ],
      "metadata": {
        "id": "Um7eIwqGTwV8"
      }
    },
    {
      "cell_type": "code",
      "execution_count": 38,
      "metadata": {
        "id": "LMDiMb1-Dtzp"
      },
      "outputs": [],
      "source": [
        "class Karyawan:\n",
        "  def __init__ (self, no, name, departemen):\n",
        "    self.no = no\n",
        "    self.name = name\n",
        "    self.departemen = departemen\n"
      ]
    },
    {
      "cell_type": "markdown",
      "source": [
        "Buatlah class Penuh yang merupakan turunan dari class Karyawan dan memili atribut tambahan bernama gaji. Kemudian class Penuh ini juga memiliki fungsi hitung_gaji sendiri yang berfungsi mengembalikan nilai gajinya."
      ],
      "metadata": {
        "id": "CLMRhqWUUHoZ"
      }
    },
    {
      "cell_type": "code",
      "source": [
        "class Penuh(Karyawan):\n",
        "  pass\n",
        "  def __init__(self,no,name,departemen,gaji):\n",
        "    super().__init__(no,name,departemen)\n",
        "    self.gaji = gaji\n",
        "\n",
        "  def hitung_gaji (self):\n",
        "    print(f'{self.name} mendapatkan gaji sebesar {self.gaji}')"
      ],
      "metadata": {
        "id": "MZwsxgPDEZNs"
      },
      "execution_count": 36,
      "outputs": []
    },
    {
      "cell_type": "markdown",
      "source": [
        "Buatlah class ParuhWaktu yang merupakan turunan dari class Karyawan dan memiliki 2 atribut tambahan bernama jam_kerja dan tarif_per_jam. Kemudian class ParuhWaktu ini juga memiliki fungsi hitung_gaji sendiri yang berfungsi mengembalikan nilai gajinya dengan rumus jam_kerja dikalikan tarif_per_jam."
      ],
      "metadata": {
        "id": "ywi3yeiqUjlh"
      }
    },
    {
      "cell_type": "code",
      "source": [
        "class ParuhWaktu(Karyawan):\n",
        "  pass\n",
        "  def __init__(self,no,name,departemen,jam_kerja,tarif_per_jam):\n",
        "    super().__init__(no,name,departemen)\n",
        "    self.jam_kerja = jam_kerja\n",
        "    self.tarif_per_jam = tarif_per_jam\n",
        "\n",
        "  def hitung_gaji (self):\n",
        "    print(f'{self.name} mendapatkan gaji sebesar {self.jam_kerja*self.tarif_per_jam} ')"
      ],
      "metadata": {
        "id": "HLBTYAVKEc7E"
      },
      "execution_count": 37,
      "outputs": []
    },
    {
      "cell_type": "markdown",
      "source": [
        "Kemudian jalankan kode program berikut ini, ubah kode karyawan, nama, departemen, gaji, jam_kerja dan tarif_per_jam sesuai keinginan anda sendiri"
      ],
      "metadata": {
        "id": "qjE3CE61VSzn"
      }
    },
    {
      "cell_type": "code",
      "source": [
        "# Membuat objek dari kelas anak\n",
        "karyawan1 = Penuh(\"9696\", \"Adila\", \"HR\", 2000000)\n",
        "karyawan2 = ParuhWaktu(\"4047\", \"Rafatar\", \"PT farma\", 5, 700000)\n",
        "\n",
        "karyawan1.hitung_gaji()\n",
        "karyawan2.hitung_gaji()"
      ],
      "metadata": {
        "id": "jwwX3nI8Efh8",
        "colab": {
          "base_uri": "https://localhost:8080/"
        },
        "outputId": "ecbc89c0-4189-486c-8ab8-698bd99a78da"
      },
      "execution_count": 41,
      "outputs": [
        {
          "output_type": "stream",
          "name": "stdout",
          "text": [
            "Adila mendapatkan gaji sebesar 2000000\n",
            "Rafatar mendapatkan gaji sebesar 3500000 \n"
          ]
        }
      ]
    }
  ]
}