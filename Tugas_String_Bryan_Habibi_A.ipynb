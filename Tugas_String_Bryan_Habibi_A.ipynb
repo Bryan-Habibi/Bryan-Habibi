{
  "nbformat": 4,
  "nbformat_minor": 0,
  "metadata": {
    "colab": {
      "provenance": [],
      "include_colab_link": true
    },
    "kernelspec": {
      "name": "python3",
      "display_name": "Python 3"
    },
    "language_info": {
      "name": "python"
    }
  },
  "cells": [
    {
      "cell_type": "markdown",
      "metadata": {
        "id": "view-in-github",
        "colab_type": "text"
      },
      "source": [
        "<a href=\"https://colab.research.google.com/github/Bryan-Habibi/CODINGAN_RPL_XI-1/blob/main/Tugas_String_Bryan_Habibi_A.ipynb\" target=\"_parent\"><img src=\"https://colab.research.google.com/assets/colab-badge.svg\" alt=\"Open In Colab\"/></a>"
      ]
    },
    {
      "cell_type": "markdown",
      "source": [
        "buatlah class Catatan dengan atribut\n",
        "1. nama (string)\n",
        "2. nomor_absen (intejer)\n",
        "3. catatan (string)\n",
        "\n",
        "buat fungsi untuk\n",
        "1. menggabungkan semua atribut diatas menjadi sebuah kalimat menggunakan pertambahan string\n",
        "2. mencari kata dalam sebuah kalimat menggunakan fungsi in\n",
        "3. menggandakan jumlah kalimat menggunakan tanda perkalian *\n",
        "4. menghitung jumlah huruf dalam kalimat menggunakan len\n",
        "5. mencari kata pertama dalam kalimat menggunakan startswith"
      ],
      "metadata": {
        "id": "AIkziXKoHrlK"
      }
    },
    {
      "cell_type": "code",
      "source": [
        "#desain class\n",
        "class Catatan:\n",
        "  def __init__(self,nama,noAbsen,catatan):\n",
        "    self.nama = nama\n",
        "    self.noAbsen = str(noAbsen)\n",
        "    self.catatan = catatan\n",
        "\n",
        "  def gabung(self):\n",
        "    hasil='Nama siswa :' + ' ' + self.nama + ', ' + 'No absen :' + ' ' + self.noAbsen + ' ' + 'Catatannya dia adalah siswa' +' ' + self.catatan\n",
        "    return hasil\n",
        "\n",
        "  def tampil(self):\n",
        "    print(self.gabung())\n",
        "\n",
        "  def cari(self):\n",
        "    print(self.nama in self.gabung() )\n",
        "\n",
        "  def duplikasi(self):\n",
        "    print(self.nama * 2 ,'yes papa')\n",
        "\n",
        "  def jumlah(self):\n",
        "    print(len(self.nama))\n",
        "\n",
        "  def Katapertama(self):\n",
        "    print(str(self.nama).startswith('Jo'))"
      ],
      "metadata": {
        "id": "_YQuLGp_IA93"
      },
      "execution_count": null,
      "outputs": []
    },
    {
      "cell_type": "code",
      "source": [
        "#main program\n",
        "siswa = Catatan('Joni',20,'nakal')\n",
        "siswa.gabung()\n",
        "siswa.tampil()\n",
        "\n",
        "siswa.cari()\n",
        "siswa.duplikasi()\n",
        "siswa.jumlah()\n",
        "siswa.Katapertama()"
      ],
      "metadata": {
        "id": "QdIPVcTJID9Q",
        "colab": {
          "base_uri": "https://localhost:8080/"
        },
        "outputId": "b461356f-fa24-4534-c317-9bcdeca0b8e1"
      },
      "execution_count": null,
      "outputs": [
        {
          "output_type": "stream",
          "name": "stdout",
          "text": [
            "Nama siswa : Joni, No absen : 20 Catatannya dia adalah siswa nakal\n",
            "True\n",
            "JoniJoni yes papa\n",
            "4\n",
            "True\n"
          ]
        }
      ]
    }
  ]
}