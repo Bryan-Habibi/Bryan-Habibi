{
  "nbformat": 4,
  "nbformat_minor": 0,
  "metadata": {
    "colab": {
      "provenance": [],
      "authorship_tag": "ABX9TyNFlDLJeBEE8UZxnhIl1toR",
      "include_colab_link": true
    },
    "kernelspec": {
      "name": "python3",
      "display_name": "Python 3"
    },
    "language_info": {
      "name": "python"
    }
  },
  "cells": [
    {
      "cell_type": "markdown",
      "metadata": {
        "id": "view-in-github",
        "colab_type": "text"
      },
      "source": [
        "<a href=\"https://colab.research.google.com/github/Bryan-Habibi/CODINGAN_RPL_XI-1/blob/main/Enkapsulasi_(1).ipynb\" target=\"_parent\"><img src=\"https://colab.research.google.com/assets/colab-badge.svg\" alt=\"Open In Colab\"/></a>"
      ]
    },
    {
      "cell_type": "code",
      "execution_count": 1,
      "metadata": {
        "id": "Hs_WNrOxhsGe"
      },
      "outputs": [],
      "source": [
        "class Karyawan:\n",
        "  def __init__(self, nama, gaji):\n",
        "    #Deklarasi dan inisialisai variabel privat untuk nama\n",
        "    self.__nama = nama\n",
        "    #Deklarasi dan inisialisai variabel privat untuk gaji\n",
        "    self.__gaji = gaji\n",
        "\n",
        "  # Fungsi untuk mengakses nama\n",
        "  def get_nama(self):\n",
        "    return self.__nama\n",
        "\n",
        "  # Fungsi untuk mengubah nama\n",
        "  def set_nama(self, nama):\n",
        "    self.__nama = nama\n",
        "\n",
        "  # Fungsi untuk mengakses gaji\n",
        "  def get_gaji(self):\n",
        "    #lengkapi\n",
        "    return self.__gaji\n",
        "\n",
        "  # Fungsi untuk mengubah gaji\n",
        "  def set_gaji(self, gaji):\n",
        "    #lengkapi\n",
        "    if gaji < 2040244:\n",
        "      self.__gaji = \"Dibawah UMK jatim\"\n",
        "    elif gaji > 10000000:\n",
        "      self.__gaji = \"Diatas 10 juta\"\n",
        "    else:\n",
        "      self.__gaji = gaji"
      ]
    },
    {
      "cell_type": "code",
      "source": [
        "# Membuat objek Karyawan dengan nama Ahmad dengan gaji 4000000\n",
        "karyawan1 = Karyawan('Achmad', 4000000)\n",
        "\n",
        "# Mengakses/menampilkan nama dan gaji menggunakan fungsi\n",
        "print(karyawan1.get_nama())\n",
        "print(karyawan1.get_gaji())\n",
        "\n",
        "# Mengubah nama menjadi nama anda masing-masing dan gaji bebas menggunakan fungsi\n",
        "karyawan1.set_nama('Bryan')\n",
        "karyawan1.set_gaji(1500000)\n",
        "\n",
        "\n",
        "# Mengakses/menampilkan nama dan gaji setelah diubah\n",
        "print('Nama: ', karyawan1.get_nama(), 'Dan gajinya: ', karyawan1.get_gaji())"
      ],
      "metadata": {
        "colab": {
          "base_uri": "https://localhost:8080/"
        },
        "id": "ZRLAtHUEiOo7",
        "outputId": "721a35c9-159a-44c8-9a1a-57d217687e25"
      },
      "execution_count": 3,
      "outputs": [
        {
          "output_type": "stream",
          "name": "stdout",
          "text": [
            "Achmad\n",
            "4000000\n",
            "Nama:  Bryan Dan gajinya:  Dibawah UMK jatim\n"
          ]
        }
      ]
    }
  ]
}