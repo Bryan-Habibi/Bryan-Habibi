{
  "nbformat": 4,
  "nbformat_minor": 0,
  "metadata": {
    "colab": {
      "provenance": [],
      "include_colab_link": true
    },
    "kernelspec": {
      "name": "python3",
      "display_name": "Python 3"
    },
    "language_info": {
      "name": "python"
    }
  },
  "cells": [
    {
      "cell_type": "markdown",
      "metadata": {
        "id": "view-in-github",
        "colab_type": "text"
      },
      "source": [
        "<a href=\"https://colab.research.google.com/github/Bryan-Habibi/CODINGAN_RPL_XI-1/blob/main/Bryan_Habibi_A_Overloading_2.ipynb\" target=\"_parent\"><img src=\"https://colab.research.google.com/assets/colab-badge.svg\" alt=\"Open In Colab\"/></a>"
      ]
    },
    {
      "cell_type": "code",
      "execution_count": 1,
      "metadata": {
        "id": "5zCytCeM1uD4"
      },
      "outputs": [],
      "source": [
        "#class Nama\n",
        "#Buat fungsi yang digunakan untuk mengabungkan nama dengan ketentuan nama depan, nama tengah, nama akhir, dan seterusnya dianggap 1 (satu) parameter\n",
        "class Nama():\n",
        "  def GabungNama(self, nama_awal = \"\",nama_tengah = \"\",nama_akhir = \"\"):\n",
        "    print(nama_awal + nama_tengah + nama_akhir)"
      ]
    },
    {
      "cell_type": "code",
      "source": [
        "#Buat main program\n",
        "Coba = Nama()\n",
        "#Panggil fungsi untuk membuat nama lengkap 4 nama teman kalian\n",
        "Coba.GabungNama(\"Bryan \",\"Habibi \",\"Achmad\")\n",
        "Coba.GabungNama(\"Restu \",\"Puja \",\"Adillah\")\n",
        "Coba.GabungNama(\"Ridho \",\"Amemia\")\n",
        "Coba.GabungNama(\"Eko\")"
      ],
      "metadata": {
        "id": "liQBcJWZ12MN",
        "colab": {
          "base_uri": "https://localhost:8080/"
        },
        "outputId": "c0ef410f-dbe1-489c-9a83-f3a613d5fd11"
      },
      "execution_count": 4,
      "outputs": [
        {
          "output_type": "stream",
          "name": "stdout",
          "text": [
            "Bryan Habibi Achmad\n",
            "Restu Puja Adillah\n",
            "Ridho Amemia\n",
            "Eko\n"
          ]
        }
      ]
    },
    {
      "cell_type": "markdown",
      "source": [
        "***Tulisakan kesimpulan dari materi Overloading menurut pemahaman anda!***\n",
        "\n",
        "jadi fungsi konsep pemrograman ini dapat menggunakan nama fungsi yang sama untuk beberapa fungsi dengan parameter yang berbeda\n"
      ],
      "metadata": {
        "id": "MkSQrm87H0Tz"
      }
    }
  ]
}