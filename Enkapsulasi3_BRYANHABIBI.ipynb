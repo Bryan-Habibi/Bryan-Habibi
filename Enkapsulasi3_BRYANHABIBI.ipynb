{
  "nbformat": 4,
  "nbformat_minor": 0,
  "metadata": {
    "colab": {
      "provenance": [],
      "include_colab_link": true
    },
    "kernelspec": {
      "name": "python3",
      "display_name": "Python 3"
    },
    "language_info": {
      "name": "python"
    }
  },
  "cells": [
    {
      "cell_type": "markdown",
      "metadata": {
        "id": "view-in-github",
        "colab_type": "text"
      },
      "source": [
        "<a href=\"https://colab.research.google.com/github/Bryan-Habibi/CODINGAN_RPL_XI-1/blob/main/Enkapsulasi3_BRYANHABIBI.ipynb\" target=\"_parent\"><img src=\"https://colab.research.google.com/assets/colab-badge.svg\" alt=\"Open In Colab\"/></a>"
      ]
    },
    {
      "cell_type": "code",
      "execution_count": 3,
      "metadata": {
        "id": "qpkwI_3Om2Nk"
      },
      "outputs": [],
      "source": [
        "# Name : Bryan Habibi Achmad\n",
        "# Desain class\n",
        "class Rekening_Bank():\n",
        "  def __init__(self,nama,saldo):\n",
        "    self.__nama = nama\n",
        "    self.__saldo = saldo\n",
        "\n",
        "#Membuat fungsi untuk mencetak nama\n",
        "  def get_nama(self):\n",
        "    return self.__nama\n",
        "\n",
        "#Membuat fungsi untuk mengganti nama\n",
        "  def set_nama(self,nama):\n",
        "    self.__nama = nama\n",
        "\n",
        "#Membuat fungsi untuk mencetak total saldo awal\n",
        "  def get_saldo(self):\n",
        "    return self.__saldo\n",
        "\n",
        "#Membuat fungsi untuk mengganti total saldo awal\n",
        "  def set_saldo(self,saldo):\n",
        "    self.__saldo = saldo\n",
        "\n",
        "#Membuat fungsi untuk setor atau menambahkan saldo awal\n",
        "  def setor(self, jumla_setor):\n",
        "    self.__saldo += jumla_setor\n",
        "    print(\"Saldo anda bertambah sebesar: \", self.__saldo)\n",
        "\n",
        "#Membuat fungsi untuk tarik saldo atau mengurangi saldo\n",
        "#Terdapat kondisi jika jumlah tariknya tidak melebihi saldo maka akan mengurangi saldo\n",
        "#Jika saldo tidak cukup untuk melakukan penarikan, maka tidak akan merubah saldo.\n",
        "  def tarik(self, jumla_tarik):\n",
        "    if jumla_tarik <= self.__saldo:\n",
        "      self.__saldo -= jumla_tarik\n",
        "      print(\"Penarikan \", jumla_tarik, \"berhasil. Saldo sisa: \",self.__saldo)\n",
        "    else:\n",
        "      print(\"Saldo tidak mencukupi untuk melakukan penarikan.\")\n"
      ]
    },
    {
      "cell_type": "code",
      "source": [
        "#Membuat demo pada program utama untuk menunjukkan fitur-fitur program yang telah dibuat!\n",
        "BNI = Rekening_Bank(\"Fitri\", 1100000)\n",
        "\n",
        "#menunjukkan penggunaan get\n",
        "print(\"-------------------------------------------\")\n",
        "print(\"Pemilik bank bernama: \", BNI.get_nama())\n",
        "print(\"Memiliki saldo sebesar: \", BNI.get_saldo())\n",
        "print(\"-------------------------------------------\")\n",
        "\n",
        "#menunjukkan penggunaan set\n",
        "BNI.set_nama( \"Brian\" )\n",
        "BNI.set_saldo(900000)\n",
        "\n",
        "#menunjukkan penggunaan setelah di set\n",
        "print(\"Pemilik bank bernama: \", BNI.get_nama())\n",
        "print(\"Memiliki saldo sebesar: \", BNI.get_saldo())\n",
        "print(\"-------------------------------------------\")\n",
        "\n",
        "#Menunjukkan penggunaan fungsi setor dan tarik\n",
        "BNI.setor(2200000)\n",
        "BNI.tarik(3500000)\n",
        "print(\"-------------------------------------------\")\n",
        "\n",
        "#Menunjukkan penggunaan fungsi tarik jika jumlah tarik melebihi saldo\n",
        "BNI.tarik(600000)\n",
        "print(\"-------------------------------------------\")"
      ],
      "metadata": {
        "colab": {
          "base_uri": "https://localhost:8080/"
        },
        "id": "ZEcO5Ax8dSO9",
        "outputId": "a659112b-d1f7-4983-e8ff-7d502e933648"
      },
      "execution_count": 4,
      "outputs": [
        {
          "output_type": "stream",
          "name": "stdout",
          "text": [
            "-------------------------------------------\n",
            "Pemilik bank bernama:  Fitri\n",
            "Memiliki saldo sebesar:  1100000\n",
            "-------------------------------------------\n",
            "Pemilik bank bernama:  Brian\n",
            "Memiliki saldo sebesar:  900000\n",
            "-------------------------------------------\n",
            "Saldo anda bertambah sebesar:  3100000\n",
            "Saldo tidak mencukupi untuk melakukan penarikan.\n",
            "-------------------------------------------\n",
            "Penarikan  600000 berhasil. Saldo sisa:  2500000\n",
            "-------------------------------------------\n"
          ]
        }
      ]
    }
  ]
}