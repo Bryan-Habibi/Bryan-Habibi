{
  "nbformat": 4,
  "nbformat_minor": 0,
  "metadata": {
    "colab": {
      "provenance": [],
      "include_colab_link": true
    },
    "kernelspec": {
      "name": "python3",
      "display_name": "Python 3"
    },
    "language_info": {
      "name": "python"
    }
  },
  "cells": [
    {
      "cell_type": "markdown",
      "metadata": {
        "id": "view-in-github",
        "colab_type": "text"
      },
      "source": [
        "<a href=\"https://colab.research.google.com/github/Bryan-Habibi/Bryan-Habibi/blob/main/Salinan_dari_TugasInheritanceSiswa2.ipynb\" target=\"_parent\"><img src=\"https://colab.research.google.com/assets/colab-badge.svg\" alt=\"Open In Colab\"/></a>"
      ]
    },
    {
      "cell_type": "markdown",
      "source": [
        "Buatlah tiga kelas: User, Siswa, dan Guru. Class Siswa dan Guru mewarisi atribute dan fungsi dari class User. Keduanya menambahkan atribut dan fungsi tambahan sesuai dengan peran masing-masing.\n",
        "\n",
        "Output dari program ini akan menampilkan informasi seorang siswa dan seorang guru dengan menggunakan fungsi tampil_info() yang diwarisi dari class User. Untuk info user yang ditampilkan silakan ditentukan sendiri minimal ada nama dan umur.\n",
        "\n",
        "Untuk informasi khusus dari siswa dan guru silakan tentukan sendiri, minimal satu atribute tambahan yang membedakan antara siswa dan guru."
      ],
      "metadata": {
        "id": "oWYx5WDsIouf"
      }
    },
    {
      "cell_type": "code",
      "execution_count": 9,
      "metadata": {
        "id": "VQWWW4rpH9ve"
      },
      "outputs": [],
      "source": [
        "#Class User\n",
        "class User:\n",
        "  def __init__(self,nama,id):\n",
        "    self.id = id\n",
        "    self.nama = nama"
      ]
    },
    {
      "cell_type": "code",
      "source": [
        "#Class Siswa\n",
        "class siswa(User):\n",
        "  def __init__(self,nama,id,kelas,jurusan):\n",
        "    super().__init__(nama,id)\n",
        "    self.kelas = kelas\n",
        "    self.jurusan = jurusan\n",
        "\n",
        "  def Info (self):\n",
        "    print(f'Nama Siswa {self.nama}, dengan id siswa {self.id}, dari kelas {self.kelas}, masuk Jurusan {self.jurusan}, ')"
      ],
      "metadata": {
        "id": "i_iBjMciJJc5"
      },
      "execution_count": 17,
      "outputs": []
    },
    {
      "cell_type": "code",
      "source": [
        "#Class Guru\n",
        "class Guru(User):\n",
        "  def __init__(self,nama ,id,mapel):\n",
        "    super().__init__(nama,id)\n",
        "    self.mapel = mapel\n",
        "\n",
        "  def Info (self):\n",
        "    print(f'Nama guru {self.nama}, Id Guru {self.id}, Guru dari mata pelajaran {self.mapel}')"
      ],
      "metadata": {
        "id": "lrnlKm6sJMjp"
      },
      "execution_count": 15,
      "outputs": []
    },
    {
      "cell_type": "code",
      "source": [
        "#Program utama untuk menampilkan info\n",
        "Rijal = siswa('Rijal', '8626', 'XI', 'RPL')\n",
        "Rijal.Info()\n",
        "\n",
        "Jawir = Guru('Jawir', '7904', 'Bhs Jawa')\n",
        "Jawir.Info()"
      ],
      "metadata": {
        "id": "VDGIma_2JOVx",
        "colab": {
          "base_uri": "https://localhost:8080/"
        },
        "outputId": "a17187fa-1e82-4233-8842-33b86116e166"
      },
      "execution_count": 19,
      "outputs": [
        {
          "output_type": "stream",
          "name": "stdout",
          "text": [
            "Nama Siswa Rijal, dengan id siswa 8626, dari kelas XI, masuk Jurusan RPL, \n",
            "Nama guru Jawir, Id Guru 7904, Guru dari mata pelajaran Bhs Jawa\n"
          ]
        }
      ]
    }
  ]
}