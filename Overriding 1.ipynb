{
  "nbformat": 4,
  "nbformat_minor": 0,
  "metadata": {
    "colab": {
      "provenance": [],
      "authorship_tag": "ABX9TyPWiKjnlL+VVy6UZXVYoy6x",
      "include_colab_link": true
    },
    "kernelspec": {
      "name": "python3",
      "display_name": "Python 3"
    },
    "language_info": {
      "name": "python"
    }
  },
  "cells": [
    {
      "cell_type": "markdown",
      "metadata": {
        "id": "view-in-github",
        "colab_type": "text"
      },
      "source": [
        "<a href=\"https://colab.research.google.com/github/Bryan-Habibi/CODINGAN_RPL_XI-1/blob/main/Overriding%201.ipynb\" target=\"_parent\"><img src=\"https://colab.research.google.com/assets/colab-badge.svg\" alt=\"Open In Colab\"/></a>"
      ]
    },
    {
      "cell_type": "markdown",
      "source": [
        "Lengkapi kode program berikut ini, sehingga bisa menghasilkan output seperti berikut!\n",
        "```\n",
        "Pohon Kelapa tumbuh dengan tinggi 800\n",
        " --> dan daun menyirip\n",
        "Mawar tumbuh dengan tinggi 50\n",
        " --> dan berwarna merah\n",
        " ```"
      ],
      "metadata": {
        "id": "7iOhCUU3aLhM"
      }
    },
    {
      "cell_type": "code",
      "source": [
        "class Tanaman:\n",
        "  def __init__(self, nama, tinggi):\n",
        "    # lengkapi kontruktor ini\n",
        "    self.nama = nama\n",
        "    self.tinggi = tinggi\n",
        "\n",
        "  def tumbuh(self):\n",
        "    print(self.nama,'tumbuh dengan tinggi', self.tinggi, 'cm')"
      ],
      "metadata": {
        "id": "58-ArKnOaXY7"
      },
      "execution_count": null,
      "outputs": []
    },
    {
      "cell_type": "code",
      "source": [
        "class Pohon(Tanaman):\n",
        "  def __init__(self, nama, tinggi, jenis_daun):\n",
        "    # lengkapi kontruktor ini\n",
        "    super().__init__(nama, tinggi)\n",
        "    self.jenis_daun = jenis_daun\n",
        "\n",
        "  def tumbuh(self):\n",
        "    # panggil fungsi tumbuh dari induk\n",
        "    super().tumbuh()\n",
        "    print(' --> dan daun', self.jenis_daun)"
      ],
      "metadata": {
        "id": "8Q-HTS3Yam0v"
      },
      "execution_count": null,
      "outputs": []
    },
    {
      "cell_type": "code",
      "source": [
        "class Bunga(Tanaman):\n",
        "  def __init__(self, nama, tinggi, warna):\n",
        "    # lengkapi kontruktor ini\n",
        "    super().__init__(nama, tinggi)\n",
        "    self.warna = warna\n",
        "\n",
        "  def tumbuh(self):\n",
        "    # panggil fungsi tumbuh dari induk\n",
        "    super().tumbuh()\n",
        "    print(' --> dan berwarna', self.warna)"
      ],
      "metadata": {
        "id": "69eJSdh_apTU"
      },
      "execution_count": null,
      "outputs": []
    },
    {
      "cell_type": "code",
      "source": [
        "# Membuat objek-objek tanaman\n",
        "tanaman1 = Pohon(\"Pohon Kelapa\", 800, \"menyirip\")\n",
        "tanaman2 = Bunga(\"Mawar\", 50, \"merah\")\n",
        "\n",
        "# Memanggil metode tumbuh yang telah di-override\n",
        "tanaman1.tumbuh()\n",
        "tanaman2.tumbuh()"
      ],
      "metadata": {
        "colab": {
          "base_uri": "https://localhost:8080/"
        },
        "id": "Jnsaf0CKapjA",
        "outputId": "89b526d4-8a22-46c1-d548-e4558d737992"
      },
      "execution_count": null,
      "outputs": [
        {
          "output_type": "stream",
          "name": "stdout",
          "text": [
            "Pohon Kelapa tumbuh dengan tinggi 800 cm\n",
            " --> dan daun menyirip\n",
            "Mawar tumbuh dengan tinggi 50 cm\n",
            " --> dan berwarna merah\n"
          ]
        }
      ]
    }
  ]
}