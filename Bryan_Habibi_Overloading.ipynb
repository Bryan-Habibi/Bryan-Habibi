{
  "nbformat": 4,
  "nbformat_minor": 0,
  "metadata": {
    "colab": {
      "provenance": [],
      "include_colab_link": true
    },
    "kernelspec": {
      "name": "python3",
      "display_name": "Python 3"
    },
    "language_info": {
      "name": "python"
    }
  },
  "cells": [
    {
      "cell_type": "markdown",
      "metadata": {
        "id": "view-in-github",
        "colab_type": "text"
      },
      "source": [
        "<a href=\"https://colab.research.google.com/github/Bryan-Habibi/CODINGAN_RPL_XI-1/blob/main/Bryan_Habibi_Overloading.ipynb\" target=\"_parent\"><img src=\"https://colab.research.google.com/assets/colab-badge.svg\" alt=\"Open In Colab\"/></a>"
      ]
    },
    {
      "cell_type": "code",
      "execution_count": 1,
      "metadata": {
        "id": "cytAUNWzM1-6"
      },
      "outputs": [],
      "source": [
        "#Buat Perkalian yang memiliki Sebuah fungsi dangan nama Hitung\n",
        "class Perkalian:\n",
        "\n",
        "#Menggunakan default parameter\n",
        "  def hasil(self, num1 = 1, num2 = 1, num3= 1, num4=1):\n",
        "    print(num1 * num2 * num3 * num4)\n",
        "\n",
        "#Menggunakan variabel args\n",
        "  def asil(self, *args):\n",
        "    jumlah = 1\n",
        "    for angka in args:\n",
        "      jumlah *= angka\n",
        "    print(jumlah)"
      ]
    },
    {
      "cell_type": "code",
      "source": [
        "#Buat main program\n",
        "coba = Perkalian()\n",
        "\n",
        "#Panggil fungsi Hitung untuk menghitung 2 parameter dengan default parameter\n",
        "coba.hasil(1, 2)\n",
        "\n",
        "#Panggil fungsi Hitung untuk menghitung 3 parameter dengan default parameter\n",
        "coba.hasil(1, 2, 3)\n",
        "\n",
        "#Panggil fungsi Hitung untuk menghitung 4 parameter dengan default parameter\n",
        "coba.hasil(1, 2, 3, 4)\n",
        "\n",
        "#Panggil fungsi Hitung untuk menghitung 2 parameter\n",
        "coba.asil(5, 6)\n",
        "\n",
        "#Panggil fungsi Hitung untuk menghitung 3 parameter\n",
        "coba.asil(5, 6, 7)\n",
        "\n",
        "#Panggil fungsi Hitung untuk menghitung 4 parameter\n",
        "coba.asil(5, 6, 7, 8)"
      ],
      "metadata": {
        "id": "W9hN-kX7PDUI",
        "colab": {
          "base_uri": "https://localhost:8080/"
        },
        "outputId": "de751c04-dfe3-46e4-d046-fa2f75ff4a84"
      },
      "execution_count": 3,
      "outputs": [
        {
          "output_type": "stream",
          "name": "stdout",
          "text": [
            "2\n",
            "6\n",
            "24\n",
            "30\n",
            "210\n",
            "1680\n"
          ]
        }
      ]
    }
  ]
}